{
  "nbformat": 4,
  "nbformat_minor": 0,
  "metadata": {
    "colab": {
      "name": "Data Cleansing untuk Model Machine Learning.ipynb",
      "provenance": [],
      "collapsed_sections": [],
      "toc_visible": true
    },
    "kernelspec": {
      "name": "python3",
      "display_name": "Python 3"
    }
  },
  "cells": [
    {
      "cell_type": "markdown",
      "metadata": {
        "id": "pJMT8HYreoEc"
      },
      "source": [
        "### **Data Cleansing untuk Model Machine Learning**"
      ]
    },
    {
      "cell_type": "markdown",
      "metadata": {
        "id": "Ud3X208Mnq-f"
      },
      "source": [
        "#### **Tugas dan Langkah**\n",
        "Sebagai seorang data scientist, kamu diminta untuk menyiapkan data sebelum di lakukan permodelan.\n",
        "\n",
        "Pada tugas kali ini, kamu akan melakukan Data Prepocessing (Data Cleansing) bulan lalu, yakni Juni 2020.\n",
        "\n",
        "Langkah yang akan dilakukan adalah,\n",
        "\n",
        "1. Mencari ID pelanggan (Nomor telphone) yang valid\n",
        "2. Mengatasi data-data yang masih kosong (Missing Values)\n",
        "3. Mengatasi Nilai-Nilai Pencilan (Outlier) dari setiap Variable\n",
        "4. Menstandarisasi Nilai dari Variable"
      ]
    },
    {
      "cell_type": "markdown",
      "metadata": {
        "id": "p1GRH583oJ-f"
      },
      "source": [
        "#### **Library yang Digunakan**\n",
        "Pada analisis kali ini, akan digunakan beberapa package yang membantu kita dalam melakukan analisis data,\n",
        "\n",
        "Pandas\n",
        "\n",
        "Pandas (Python for Data Analysis) adalah library Python yang fokus untuk proses analisis data seperti manipulasi data, persiapan data, dan pembersihan data.\n",
        "\n",
        "- read_csv() digunakan untuk membaca file csv\n",
        "- str.match() digunakan untuk mencocokan dengan karakter tertentu\n",
        "- drop() digunakan untuk menghapus\n",
        "- count() digunakan untuk mengitung masing-masing variable\n",
        "- drop_duplicates() digunakan untuk menghapus data duplicate rows\n",
        "- fillna() digunakan untuk mengisi dengan nilai tertentu\n",
        "- quantile() digunakan untuk melihat quantile ke tertentu\n",
        "- mask() menganti nilai tertentu jika kondisi memenuhi\n",
        "- astype() merunubah tipe data\n",
        "- value_counts() digunakan untuk mengitung unik dari kolom\n",
        "- sort_values() digunakan untuk sort values\n",
        "- isnull() digunakan untuk mendeteksi missing values\n",
        "- dropna() digunakan untuk menghapus missing values\n",
        "- replace() digunakan untuk mengganti nilai\n",
        "\n",
        "Matplotlib\n",
        "\n",
        "Matplotlib adalah library Python yang fokus pada visualisasi data seperti membuat plot grafik. Matplotlib dapat digunakan dalam skrip Python, Python dan IPython shell, server aplikasi web, dan beberapa toolkit graphical user interface (GUI) lainnya.\n",
        "\n",
        "- figure() digunakan untuk membuat figure gambar baru\n",
        "\n",
        "Seaborn\n",
        "\n",
        "Seaborn membangun di atas Matplotlib dan memperkenalkan tipe plot tambahan. Ini juga membuat plot Matplotlib tradisional Anda terlihat sedikit lebih cantik.\n",
        "\n",
        "- box_plot() digunakan untuk membuat box plot"
      ]
    },
    {
      "cell_type": "markdown",
      "metadata": {
        "id": "yf5PDRkkozhQ"
      },
      "source": [
        "#### **Data yang Digunakan**\n",
        "\n",
        "Untuk Dataset yang digunakan sudah disediakan dalam format csv, silahkan baca melalui fungsi pandas di python\n",
        "```\n",
        "df_load = pd.read_csv('https://storage.googleapis.com/dqlab-dataset/dqlab_telco.csv')\n",
        "```\n",
        "\n",
        "Untuk detil datanya adalah sebagai berikut:\n",
        "\n",
        "- ***UpdatedAt*** Periode of Data taken\n",
        "- **customerID** Customer ID\n",
        "- **gender** Whether the customer is a male or a female (Male, Female)\n",
        "- **SeniorCitizen** Whether the customer is a senior citizen or not (1, 0)\n",
        "- **Partner** Whether the customer has a partner or not (Yes, No)\n",
        "- **Dependents** Whether the customer has dependents or not (Yes, No)\n",
        "- **tenure** Number of months the customer has stayed with the company\n",
        "- **PhoneService** Whether the customer has a phone service or not (Yes, No)\n",
        "- **MultipleLines** Whether the customer has multiple lines or not (Yes, No, No phone service)\n",
        "- **InternetService** Customer’s internet service provider (DSL, Fiber optic, No)\n",
        "- **OnlineSecurity** Whether the customer has online security or not (Yes, No, No internet service)\n",
        "- **OnlineBackup** Whether the customer has online backup or not (Yes, No, No internet service)\n",
        "- **DeviceProtection** Whether the customer has device protection or not (Yes, No, No internet service)\n",
        "- **TechSupport Whether** the customer has tech support or not (Yes, No, No internet service)\n",
        "- **StreamingTV** Whether the customer has streaming TV or not (Yes, No, No internet service)\n",
        "- **StreamingMovies** Whether the customer has streaming movies or not (Yes, No, No internet service)\n",
        "- **Contract** The contract term of the customer (Month-to-month, One year, Two year)\n",
        "- **PaperlessBilling** Whether the customer has paperless billing or not (Yes, No)\n",
        "- **PaymentMethod** The customer’s payment method (Electronic check, Mailed check, Bank transfer (automatic), Credit card (automatic))\n",
        "- **MonthlyCharges** The amount charged to the customer monthly\n",
        "- **TotalCharges** The total amount charged to the customer\n",
        "- **Churn** Whether the customer churned or not (Yes or No)"
      ]
    },
    {
      "cell_type": "markdown",
      "metadata": {
        "id": "8CTSquabrm1P"
      },
      "source": [
        "#### **Introduction**"
      ]
    },
    {
      "cell_type": "markdown",
      "metadata": {
        "id": "tE9hniy8excX"
      },
      "source": [
        "**Import Library dan Dataset**\n",
        "\n"
      ]
    },
    {
      "cell_type": "code",
      "metadata": {
        "id": "U0vc0hDLXuW_"
      },
      "source": [
        "#import library\n",
        "import matplotlib.pyplot as plt\n",
        "import seaborn as sns\n",
        "import pandas as pd\n",
        "pd.options.display.max_columns = 50\n",
        "\n",
        "#import dataset\n",
        "df_load = pd.read_csv('https://storage.googleapis.com/dqlab-dataset/dqlab_telco.csv')"
      ],
      "execution_count": 11,
      "outputs": []
    },
    {
      "cell_type": "code",
      "metadata": {
        "id": "JM4612hJXvI4",
        "colab": {
          "base_uri": "https://localhost:8080/"
        },
        "outputId": "a16ceff5-efb0-4c60-c923-7235692b1b81"
      },
      "source": [
        "# menampilkan jumlah baris dan kolom\n",
        "df_load.shape"
      ],
      "execution_count": 3,
      "outputs": [
        {
          "output_type": "execute_result",
          "data": {
            "text/plain": [
              "(7113, 22)"
            ]
          },
          "metadata": {
            "tags": []
          },
          "execution_count": 3
        }
      ]
    },
    {
      "cell_type": "code",
      "metadata": {
        "id": "EdK9Pi8vXvLF",
        "colab": {
          "base_uri": "https://localhost:8080/",
          "height": 292
        },
        "outputId": "cf5da245-0262-4596-c7cd-32592f06d150"
      },
      "source": [
        "# menampilkan 5 baris data teratas\n",
        "df_load.head()"
      ],
      "execution_count": 4,
      "outputs": [
        {
          "output_type": "execute_result",
          "data": {
            "text/html": [
              "<div>\n",
              "<style scoped>\n",
              "    .dataframe tbody tr th:only-of-type {\n",
              "        vertical-align: middle;\n",
              "    }\n",
              "\n",
              "    .dataframe tbody tr th {\n",
              "        vertical-align: top;\n",
              "    }\n",
              "\n",
              "    .dataframe thead th {\n",
              "        text-align: right;\n",
              "    }\n",
              "</style>\n",
              "<table border=\"1\" class=\"dataframe\">\n",
              "  <thead>\n",
              "    <tr style=\"text-align: right;\">\n",
              "      <th></th>\n",
              "      <th>UpdatedAt</th>\n",
              "      <th>customerID</th>\n",
              "      <th>gender</th>\n",
              "      <th>SeniorCitizen</th>\n",
              "      <th>Partner</th>\n",
              "      <th>Dependents</th>\n",
              "      <th>tenure</th>\n",
              "      <th>PhoneService</th>\n",
              "      <th>MultipleLines</th>\n",
              "      <th>InternetService</th>\n",
              "      <th>OnlineSecurity</th>\n",
              "      <th>OnlineBackup</th>\n",
              "      <th>DeviceProtection</th>\n",
              "      <th>TechSupport</th>\n",
              "      <th>StreamingTV</th>\n",
              "      <th>StreamingMovies</th>\n",
              "      <th>Contract</th>\n",
              "      <th>PaperlessBilling</th>\n",
              "      <th>PaymentMethod</th>\n",
              "      <th>MonthlyCharges</th>\n",
              "      <th>TotalCharges</th>\n",
              "      <th>Churn</th>\n",
              "    </tr>\n",
              "  </thead>\n",
              "  <tbody>\n",
              "    <tr>\n",
              "      <th>0</th>\n",
              "      <td>202006</td>\n",
              "      <td>45759018157</td>\n",
              "      <td>Female</td>\n",
              "      <td>0</td>\n",
              "      <td>Yes</td>\n",
              "      <td>No</td>\n",
              "      <td>1.0</td>\n",
              "      <td>No</td>\n",
              "      <td>No phone service</td>\n",
              "      <td>DSL</td>\n",
              "      <td>No</td>\n",
              "      <td>Yes</td>\n",
              "      <td>No</td>\n",
              "      <td>No</td>\n",
              "      <td>No</td>\n",
              "      <td>No</td>\n",
              "      <td>Month-to-month</td>\n",
              "      <td>Yes</td>\n",
              "      <td>Electronic check</td>\n",
              "      <td>29.85</td>\n",
              "      <td>29.85</td>\n",
              "      <td>No</td>\n",
              "    </tr>\n",
              "    <tr>\n",
              "      <th>1</th>\n",
              "      <td>202006</td>\n",
              "      <td>45557574145</td>\n",
              "      <td>Male</td>\n",
              "      <td>0</td>\n",
              "      <td>No</td>\n",
              "      <td>No</td>\n",
              "      <td>34.0</td>\n",
              "      <td>Yes</td>\n",
              "      <td>No</td>\n",
              "      <td>DSL</td>\n",
              "      <td>Yes</td>\n",
              "      <td>No</td>\n",
              "      <td>Yes</td>\n",
              "      <td>No</td>\n",
              "      <td>No</td>\n",
              "      <td>No</td>\n",
              "      <td>One year</td>\n",
              "      <td>No</td>\n",
              "      <td>Mailed check</td>\n",
              "      <td>56.95</td>\n",
              "      <td>1889.50</td>\n",
              "      <td>No</td>\n",
              "    </tr>\n",
              "    <tr>\n",
              "      <th>2</th>\n",
              "      <td>202006</td>\n",
              "      <td>45366876421</td>\n",
              "      <td>Male</td>\n",
              "      <td>0</td>\n",
              "      <td>No</td>\n",
              "      <td>No</td>\n",
              "      <td>2.0</td>\n",
              "      <td>Yes</td>\n",
              "      <td>No</td>\n",
              "      <td>DSL</td>\n",
              "      <td>Yes</td>\n",
              "      <td>Yes</td>\n",
              "      <td>No</td>\n",
              "      <td>No</td>\n",
              "      <td>No</td>\n",
              "      <td>No</td>\n",
              "      <td>Month-to-month</td>\n",
              "      <td>Yes</td>\n",
              "      <td>Mailed check</td>\n",
              "      <td>53.85</td>\n",
              "      <td>108.15</td>\n",
              "      <td>Yes</td>\n",
              "    </tr>\n",
              "    <tr>\n",
              "      <th>3</th>\n",
              "      <td>202006</td>\n",
              "      <td>45779536532</td>\n",
              "      <td>Male</td>\n",
              "      <td>0</td>\n",
              "      <td>No</td>\n",
              "      <td>No</td>\n",
              "      <td>45.0</td>\n",
              "      <td>No</td>\n",
              "      <td>No phone service</td>\n",
              "      <td>DSL</td>\n",
              "      <td>Yes</td>\n",
              "      <td>No</td>\n",
              "      <td>Yes</td>\n",
              "      <td>Yes</td>\n",
              "      <td>No</td>\n",
              "      <td>No</td>\n",
              "      <td>One year</td>\n",
              "      <td>No</td>\n",
              "      <td>Bank transfer (automatic)</td>\n",
              "      <td>42.30</td>\n",
              "      <td>1840.75</td>\n",
              "      <td>No</td>\n",
              "    </tr>\n",
              "    <tr>\n",
              "      <th>4</th>\n",
              "      <td>202006</td>\n",
              "      <td>45923787906</td>\n",
              "      <td>Female</td>\n",
              "      <td>0</td>\n",
              "      <td>No</td>\n",
              "      <td>No</td>\n",
              "      <td>2.0</td>\n",
              "      <td>Yes</td>\n",
              "      <td>No</td>\n",
              "      <td>Fiber optic</td>\n",
              "      <td>No</td>\n",
              "      <td>No</td>\n",
              "      <td>No</td>\n",
              "      <td>No</td>\n",
              "      <td>No</td>\n",
              "      <td>No</td>\n",
              "      <td>Month-to-month</td>\n",
              "      <td>Yes</td>\n",
              "      <td>Electronic check</td>\n",
              "      <td>70.70</td>\n",
              "      <td>151.65</td>\n",
              "      <td>Yes</td>\n",
              "    </tr>\n",
              "  </tbody>\n",
              "</table>\n",
              "</div>"
            ],
            "text/plain": [
              "   UpdatedAt   customerID  gender  SeniorCitizen Partner Dependents  tenure  \\\n",
              "0     202006  45759018157  Female              0     Yes         No     1.0   \n",
              "1     202006  45557574145    Male              0      No         No    34.0   \n",
              "2     202006  45366876421    Male              0      No         No     2.0   \n",
              "3     202006  45779536532    Male              0      No         No    45.0   \n",
              "4     202006  45923787906  Female              0      No         No     2.0   \n",
              "\n",
              "  PhoneService     MultipleLines InternetService OnlineSecurity OnlineBackup  \\\n",
              "0           No  No phone service             DSL             No          Yes   \n",
              "1          Yes                No             DSL            Yes           No   \n",
              "2          Yes                No             DSL            Yes          Yes   \n",
              "3           No  No phone service             DSL            Yes           No   \n",
              "4          Yes                No     Fiber optic             No           No   \n",
              "\n",
              "  DeviceProtection TechSupport StreamingTV StreamingMovies        Contract  \\\n",
              "0               No          No          No              No  Month-to-month   \n",
              "1              Yes          No          No              No        One year   \n",
              "2               No          No          No              No  Month-to-month   \n",
              "3              Yes         Yes          No              No        One year   \n",
              "4               No          No          No              No  Month-to-month   \n",
              "\n",
              "  PaperlessBilling              PaymentMethod  MonthlyCharges  TotalCharges  \\\n",
              "0              Yes           Electronic check           29.85         29.85   \n",
              "1               No               Mailed check           56.95       1889.50   \n",
              "2              Yes               Mailed check           53.85        108.15   \n",
              "3               No  Bank transfer (automatic)           42.30       1840.75   \n",
              "4              Yes           Electronic check           70.70        151.65   \n",
              "\n",
              "  Churn  \n",
              "0    No  \n",
              "1    No  \n",
              "2   Yes  \n",
              "3    No  \n",
              "4   Yes  "
            ]
          },
          "metadata": {
            "tags": []
          },
          "execution_count": 4
        }
      ]
    },
    {
      "cell_type": "code",
      "metadata": {
        "id": "ckmzHb_nXvNL",
        "colab": {
          "base_uri": "https://localhost:8080/"
        },
        "outputId": "8cd9d5b8-47a6-4b61-8f36-fcf720765ab0"
      },
      "source": [
        "# nilai customerID yang bersifat unique\n",
        "df_load.customerID.nunique()"
      ],
      "execution_count": 5,
      "outputs": [
        {
          "output_type": "execute_result",
          "data": {
            "text/plain": [
              "7017"
            ]
          },
          "metadata": {
            "tags": []
          },
          "execution_count": 5
        }
      ]
    },
    {
      "cell_type": "markdown",
      "metadata": {
        "id": "ubIeIVBDrZrS"
      },
      "source": [
        "#### **Mencari Validitas ID Number Pelanggan**"
      ]
    },
    {
      "cell_type": "markdown",
      "metadata": {
        "id": "s1ZuhU5ffY94"
      },
      "source": [
        "**Memfilter ID Number Pelanggan Format Tertentu**"
      ]
    },
    {
      "cell_type": "markdown",
      "metadata": {
        "id": "feIKxEB0fc1u"
      },
      "source": [
        "Mencari format ID Number (Phone Number) Pelanggan customerID yang benar, dengan kriteria:\n",
        "\n",
        "1. Panjang karakter adalah 11-12.\n",
        "2. Terdiri dari Angka Saja, tidak diperbolehkan ada karakter selain angka\n",
        "3. Diawali dengan angka 45 2 digit pertama."
      ]
    },
    {
      "cell_type": "code",
      "metadata": {
        "id": "aPh4p2TaXvPV",
        "colab": {
          "base_uri": "https://localhost:8080/"
        },
        "outputId": "dd9da5f4-b456-4da1-8043-9bdbbd3714bf"
      },
      "source": [
        "df_load['valid_id'] = df_load['customerID'].astype(str).str.match(r'(45\\d{9,10})')\n",
        "df_load = (df_load[df_load['valid_id'] == True]).drop('valid_id', axis = 1)\n",
        "print('Hasil jumlah ID Customer yang terfilter adalah',df_load['customerID'].count())\t\t"
      ],
      "execution_count": 6,
      "outputs": [
        {
          "output_type": "stream",
          "text": [
            "Hasil jumlah ID Customer yang terfilter adalah 7006\n"
          ],
          "name": "stdout"
        }
      ]
    },
    {
      "cell_type": "markdown",
      "metadata": {
        "id": "SjLfELzOfxEz"
      },
      "source": [
        "**Memfilter Duplikasi ID Number Pelanggan**"
      ]
    },
    {
      "cell_type": "markdown",
      "metadata": {
        "id": "CmLHdh0kfyUg"
      },
      "source": [
        "Memastikan bahwa tidak ada Id Number pelanggan yang duplikat. Biasanya duplikasi ID number ini tipenya:\n",
        "\n",
        "1. Duplikasi dikarenakan inserting melebihi satu kali dengan nilai yang sama tiap kolomnya.\n",
        "2. Duplikasi dikarenakan inserting beda periode pengambilan data"
      ]
    },
    {
      "cell_type": "code",
      "metadata": {
        "id": "fn2Pv66BXvV2",
        "colab": {
          "base_uri": "https://localhost:8080/"
        },
        "outputId": "7135faef-aa02-443b-a39a-65f227935e22"
      },
      "source": [
        "# Drop Duplicate Rows\n",
        "df_load.drop_duplicates()\n",
        "# Drop duplicate ID sorted by Periode\n",
        "df_load = df_load.sort_values('UpdatedAt', ascending = False).drop_duplicates(['customerID'])\n",
        "print('Hasil jumlah ID Customer yang sudah dihilangkan duplikasinya (distinct) adalah',df_load['customerID'].count())"
      ],
      "execution_count": 7,
      "outputs": [
        {
          "output_type": "stream",
          "text": [
            "Hasil jumlah ID Customer yang sudah dihilangkan duplikasinya (distinct) adalah 6993\n"
          ],
          "name": "stdout"
        }
      ]
    },
    {
      "cell_type": "markdown",
      "metadata": {
        "id": "WvPslwjbgSK-"
      },
      "source": [
        "**Kesimpulan**"
      ]
    },
    {
      "cell_type": "markdown",
      "metadata": {
        "id": "67l7fMxBgUJD"
      },
      "source": [
        "Validitas dari ID Number pelanggan sangat diperlukan untuk memastikan bahwa data yang kita ambil sudah benar. Berdasarkan hasil tersbut, terdapat perbedaan jumlah nomor ID dari data pertama kali di load sampai dengan hasil akhir. Jumlah row data ketika pertama kali di load ada sebanyak 7113 rows dan 22 coloumns dengan 7017 jumlah ID yang Unique. Kemudian setelah di cek validitas dari ID pelanggan, maka tersisa 6993 rows data."
      ]
    },
    {
      "cell_type": "markdown",
      "metadata": {
        "id": "9QN7jFiKr4yS"
      },
      "source": [
        "#### **Mengatasi Missing Value**"
      ]
    },
    {
      "cell_type": "markdown",
      "metadata": {
        "id": "uKzX6ltCgZwg"
      },
      "source": [
        "**Mengatasi Missing Values dengan Penghapusan Rows**"
      ]
    },
    {
      "cell_type": "markdown",
      "metadata": {
        "id": "wcJx_6QHgd0T"
      },
      "source": [
        "Selanjutnya kita akan menghapus Rows dari data-data yang tidak terdeteksi apakah dia churn atau tidak. Di asumsikan data modeller hanya mau menerima data yang benar ada flag churn nya atau tidak."
      ]
    },
    {
      "cell_type": "code",
      "metadata": {
        "id": "3_RE8krdXvYJ",
        "colab": {
          "base_uri": "https://localhost:8080/"
        },
        "outputId": "7d0dabf1-70fa-4a3d-970b-bbc4e1dfeace"
      },
      "source": [
        "print('Total missing values data dari kolom Churn', df_load['Churn'].isnull().sum())\n",
        "# Dropping all Rows with spesific column\n",
        "df_load.dropna(subset=['Churn'], inplace=True)\n",
        "print('Total Rows dan kolom Data setelah dihapus data Missing Values adalah', df_load.shape)\t"
      ],
      "execution_count": 8,
      "outputs": [
        {
          "output_type": "stream",
          "text": [
            "Total missing values data dari kolom Churn 43\n",
            "Total Rows dan kolom Data setelah dihapus data Missing Values adalah (6950, 22)\n"
          ],
          "name": "stdout"
        }
      ]
    },
    {
      "cell_type": "markdown",
      "metadata": {
        "id": "btPmGV_fgjs2"
      },
      "source": [
        "**Mengatasi Missing Values dengan Pengisian Nilai tertentu**"
      ]
    },
    {
      "cell_type": "markdown",
      "metadata": {
        "id": "TIV6m72LgkbU"
      },
      "source": [
        "Selain dengan mengapus rows dari data, menangani missing values bisa menggunakan nilai tertentu. Diasumsikan data modeller meminta pengisian missing values dengan kriteria berikut:\n",
        "\n",
        "1. Tenure pihak data modeller meminta setiap rows yang memiliki missing values untuk Lama berlangganan di isi dengan 11\n",
        "2. Variable yang bersifat numeric selain Tenure di isi dengan median dari masing-masing variable tersebut\n",
        "\n",
        "Tentukan :\n",
        "\n",
        "1. Apakah masih ada data yang missing values\n",
        "2. Jumlah Missing Values dari masing-masing variable\n",
        "3. Tangani Missing Valuesnya"
      ]
    },
    {
      "cell_type": "code",
      "metadata": {
        "id": "oZRPoSW1Xvad",
        "colab": {
          "base_uri": "https://localhost:8080/"
        },
        "outputId": "67445275-9cbc-46ba-9328-7f74e3f02088"
      },
      "source": [
        "print('Status Missing Values :',df_load.isnull().values.any())\n",
        "print('\\nJumlah Missing Values masing-masing kolom, adalah:')\n",
        "print(df_load.isnull().sum().sort_values(ascending=False))\n",
        "\n",
        "# handling missing values Tenure fill with 11\n",
        "df_load['tenure'].fillna(11, inplace=True)\n",
        "\n",
        "# Handling missing values num vars (except Tenure)\n",
        "for col_name in list(['MonthlyCharges','TotalCharges']):\n",
        "  median = df_load[col_name].median()\n",
        "  df_load[col_name].fillna(median, inplace=True)\n",
        "\n",
        "print('\\nJumlah Missing Values setelah di imputer datanya, adalah:')\n",
        "print(df_load.isnull().sum().sort_values(ascending=False))"
      ],
      "execution_count": 10,
      "outputs": [
        {
          "output_type": "stream",
          "text": [
            "Status Missing Values : True\n",
            "\n",
            "Jumlah Missing Values masing-masing kolom, adalah:\n",
            "tenure              99\n",
            "MonthlyCharges      26\n",
            "TotalCharges        15\n",
            "Churn                0\n",
            "InternetService      0\n",
            "customerID           0\n",
            "gender               0\n",
            "SeniorCitizen        0\n",
            "Partner              0\n",
            "Dependents           0\n",
            "PhoneService         0\n",
            "MultipleLines        0\n",
            "OnlineSecurity       0\n",
            "OnlineBackup         0\n",
            "DeviceProtection     0\n",
            "TechSupport          0\n",
            "StreamingTV          0\n",
            "StreamingMovies      0\n",
            "Contract             0\n",
            "PaperlessBilling     0\n",
            "PaymentMethod        0\n",
            "UpdatedAt            0\n",
            "dtype: int64\n",
            "\n",
            "Jumlah Missing Values setelah di imputer datanya, adalah:\n",
            "Churn               0\n",
            "TotalCharges        0\n",
            "customerID          0\n",
            "gender              0\n",
            "SeniorCitizen       0\n",
            "Partner             0\n",
            "Dependents          0\n",
            "tenure              0\n",
            "PhoneService        0\n",
            "MultipleLines       0\n",
            "InternetService     0\n",
            "OnlineSecurity      0\n",
            "OnlineBackup        0\n",
            "DeviceProtection    0\n",
            "TechSupport         0\n",
            "StreamingTV         0\n",
            "StreamingMovies     0\n",
            "Contract            0\n",
            "PaperlessBilling    0\n",
            "PaymentMethod       0\n",
            "MonthlyCharges      0\n",
            "UpdatedAt           0\n",
            "dtype: int64\n"
          ],
          "name": "stdout"
        }
      ]
    },
    {
      "cell_type": "markdown",
      "metadata": {
        "id": "2ORzYl0igxA4"
      },
      "source": [
        "**Kesimpulan**"
      ]
    },
    {
      "cell_type": "markdown",
      "metadata": {
        "id": "ulDRHoBjgyw9"
      },
      "source": [
        "Setelah kita analisis lebih lanjut, ternyata masih ada Missing Values dari data yang kita sudah validkan Id Number pelanggannya. Missing values terdapat pada kolom Churn, tenure, MonthlyCharges & TotalCharges. Setelah kita tangani dengan cara penghapusan rows dan pengisian rows dengan nilai tertentu, terbukti sudah tidak ada missing values lagi pada data, terbukti dari jumlah missing values masing-masing variable yang bernilai 0. Selanjutnya kita akan melakukan penanganan pencilan (Outlier"
      ]
    },
    {
      "cell_type": "markdown",
      "metadata": {
        "id": "ZLrWXQbJslBb"
      },
      "source": [
        "#### **Mengatasi Outliers**"
      ]
    },
    {
      "cell_type": "markdown",
      "metadata": {
        "id": "d0hCpJW7g5Ld"
      },
      "source": [
        "**Mendeteksi adanya Outlier (Boxplot)**"
      ]
    },
    {
      "cell_type": "markdown",
      "metadata": {
        "id": "iZnZ28vpg6B_"
      },
      "source": [
        "Mendeteksi Pencilan dari suatu Nilai (Outlier) salah satunya bisa melihat plot dari data tersebut menggunakan Box Plot. Boxplot merupakan ringkasan distribusi sampel yang disajikan secara grafis yang bisa menggambarkan bentuk distribusi data (skewness), ukuran tendensi sentral dan ukuran penyebaran (keragaman) data pengamatan.\n",
        "\n",
        " "
      ]
    },
    {
      "cell_type": "code",
      "metadata": {
        "id": "XWb1G3sIXvj-",
        "colab": {
          "base_uri": "https://localhost:8080/"
        },
        "outputId": "ed645de5-6205-41c0-b2f5-4ff2d8380a20"
      },
      "source": [
        "print('\\nPersebaran data sebelum ditangani Outlier: ')\n",
        "print(df_load[['tenure','MonthlyCharges','TotalCharges']].describe())"
      ],
      "execution_count": 12,
      "outputs": [
        {
          "output_type": "stream",
          "text": [
            "\n",
            "Persebaran data sebelum ditangani Outlier: \n",
            "            tenure  MonthlyCharges  TotalCharges\n",
            "count  7014.000000     7087.000000   7098.000000\n",
            "mean     32.749358       67.018985   2306.582650\n",
            "std      25.206376      117.396646   2575.212013\n",
            "min       0.000000        0.000000     19.000000\n",
            "25%       9.000000       36.100000    402.925000\n",
            "50%      30.000000       70.450000   1400.700000\n",
            "75%      56.000000       89.900000   3801.600000\n",
            "max     500.000000     9000.000000  80000.000000\n"
          ],
          "name": "stdout"
        }
      ]
    },
    {
      "cell_type": "code",
      "metadata": {
        "id": "8yQ4yf5gYkKM",
        "colab": {
          "base_uri": "https://localhost:8080/",
          "height": 803
        },
        "outputId": "bc9257ca-46f0-4130-86ba-eddc790aa86f"
      },
      "source": [
        "plt.figure()\n",
        "sns.boxplot(x=df_load['tenure'])\n",
        "plt.show()\n",
        "\n",
        "plt.figure()\n",
        "sns.boxplot(x=df_load['MonthlyCharges'])\n",
        "plt.show()\n",
        "\n",
        "plt.figure()\n",
        "sns.boxplot(x=df_load['TotalCharges'])\n",
        "plt.show()"
      ],
      "execution_count": 13,
      "outputs": [
        {
          "output_type": "display_data",
          "data": {
            "image/png": "[encoded data removed]",
            "text/plain": [
              "<Figure size 432x288 with 1 Axes>"
            ]
          },
          "metadata": {
            "tags": [],
            "needs_background": "light"
          }
        },
        {
          "output_type": "display_data",
          "data": {
            "image/png": "[encoded data removed]",
            "text/plain": [
              "<Figure size 432x288 with 1 Axes>"
            ]
          },
          "metadata": {
            "tags": [],
            "needs_background": "light"
          }
        },
        {
          "output_type": "display_data",
          "data": {
            "image/png": "[encoded data removed]",
            "text/plain": [
              "<Figure size 432x288 with 1 Axes>"
            ]
          },
          "metadata": {
            "tags": [],
            "needs_background": "light"
          }
        }
      ]
    },
    {
      "cell_type": "markdown",
      "metadata": {
        "id": "O_6hb2LlhEAO"
      },
      "source": [
        "**Mengatasi Outlier**"
      ]
    },
    {
      "cell_type": "markdown",
      "metadata": {
        "id": "U4u1HDaZhEpV"
      },
      "source": [
        "Setelah kita mengetahui variable mana saja yang terdapat pencilan (Outlier), selanjutnya kita akan atasi Outlier dengan menggunakan metode interquartile range (IQR)"
      ]
    },
    {
      "cell_type": "code",
      "metadata": {
        "id": "o64O_taMYkMu",
        "colab": {
          "base_uri": "https://localhost:8080/"
        },
        "outputId": "00c7ee8e-d593-427d-e43f-4b87c4f6f745"
      },
      "source": [
        "# Handling with IQR\n",
        "Q1 = (df_load[['tenure','MonthlyCharges','TotalCharges']]).quantile(0.25)\n",
        "Q3 = (df_load[['tenure','MonthlyCharges','TotalCharges']]).quantile(0.75)\n",
        "\n",
        "IQR = Q3 - Q1\n",
        "maximum = Q3 + (1.5*IQR)\n",
        "print('Nilai Maximum dari masing-masing Variable adalah: ')\n",
        "print(maximum)\n",
        "minimum = Q1 - (1.5*IQR)\n",
        "print('\\nNilai Minimum dari masing-masing Variable adalah: ')\n",
        "print(minimum)\n",
        "\n",
        "more_than = (df_load > maximum)\n",
        "lower_than = (df_load < minimum)\n",
        "df_load = df_load.mask(more_than, maximum, axis=1)\n",
        "df_load = df_load.mask(lower_than, minimum, axis=1)\n",
        "\n",
        "print('\\nPersebaran data setelah ditangani Outlier: ')\n",
        "print(df_load[['tenure','MonthlyCharges','TotalCharges']].describe())"
      ],
      "execution_count": 14,
      "outputs": [
        {
          "output_type": "stream",
          "text": [
            "Nilai Maximum dari masing-masing Variable adalah: \n",
            "tenure             126.5000\n",
            "MonthlyCharges     170.6000\n",
            "TotalCharges      8899.6125\n",
            "dtype: float64\n",
            "\n",
            "Nilai Minimum dari masing-masing Variable adalah: \n",
            "tenure             -61.5000\n",
            "MonthlyCharges     -44.6000\n",
            "TotalCharges     -4695.0875\n",
            "dtype: float64\n",
            "\n",
            "Persebaran data setelah ditangani Outlier: \n",
            "            tenure  MonthlyCharges  TotalCharges\n",
            "count  7014.000000     7087.000000   7098.000000\n",
            "mean     32.696108       64.995837   2287.957576\n",
            "std      24.606516       30.133477   2268.788381\n",
            "min       0.000000        0.000000     19.000000\n",
            "25%       9.000000       36.100000    402.925000\n",
            "50%      30.000000       70.450000   1400.700000\n",
            "75%      56.000000       89.900000   3801.600000\n",
            "max     126.500000      170.600000   8899.612500\n"
          ],
          "name": "stdout"
        }
      ]
    },
    {
      "cell_type": "markdown",
      "metadata": {
        "id": "sD3-0wDUhTM0"
      },
      "source": [
        "**Kesimpulan**"
      ]
    },
    {
      "cell_type": "markdown",
      "metadata": {
        "id": "uGQGeJ8fhXYx"
      },
      "source": [
        "Dari ketiga boxplot dengan variable 'tenure','MonthlyCharges' & 'TotalCharges' terlihat jelas bahwasannya ada outlier. Hal ini bisa di identifikasi dari adanya titik titik yang berada jauh dari gambar boxplotnya. Kemudian kalo kita liat persebaran datanya dari kolom max nya juga ada nilai yang sangat tinggi sekali.\n",
        "\n",
        "Kemudian nilai outlier tersebut ditangani dengan cara merubah nilainya ke nilai Maximum & Minimum dari interquartile range (IQR). Setelah di tangani outliernya, dan dilihat perseberan data nya, terlihat sudah tidak ada lagi nilai yang outlier.\n",
        "\n"
      ]
    },
    {
      "cell_type": "markdown",
      "metadata": {
        "id": "UjD2IYQZtdiP"
      },
      "source": [
        "#### **Menstandarisasi Nilai**"
      ]
    },
    {
      "cell_type": "markdown",
      "metadata": {
        "id": "wK-8-S9UhZeB"
      },
      "source": [
        "**Mendeteksi Nilai yang tidak Standar**"
      ]
    },
    {
      "cell_type": "markdown",
      "metadata": {
        "id": "MNBY2WDwhdkE"
      },
      "source": [
        "Mendeteksi apakah ada nilai-nilai dari variable kategorik yang tidak standard. Hal ini biasanya terjadi dikarenakan kesalahan input data. Perbedaan istilah menjadi salah satu faktor yang sering terjadi, untuk itu dibutuhkan standarisasi dari data yang sudah terinput."
      ]
    },
    {
      "cell_type": "code",
      "metadata": {
        "id": "hlbh1MbUYkO4",
        "colab": {
          "base_uri": "https://localhost:8080/"
        },
        "outputId": "6a4f284d-d015-40be-8915-24047dc30447"
      },
      "source": [
        "for col_name in list(['gender', 'SeniorCitizen', 'Partner', 'Dependents', 'PhoneService', 'MultipleLines', 'InternetService', \n",
        "                      'OnlineSecurity', 'OnlineBackup', 'DeviceProtection', 'TechSupport', 'StreamingTV', 'StreamingMovies',\n",
        "                      'Contract', 'PaperlessBilling', 'PaymentMethod', 'Churn']):\n",
        "  print(\"\\nUnique Values Count \\033[1m\" + \"Before Standardized \\033[0mVariable\", col_name)\n",
        "  print(df_load[col_name].value_counts())"
      ],
      "execution_count": 15,
      "outputs": [
        {
          "output_type": "stream",
          "text": [
            "\n",
            "Unique Values Count \u001b[1mBefore Standardized \u001b[0mVariable gender\n",
            "Male         3581\n",
            "Female       3512\n",
            "Wanita         14\n",
            "Laki-Laki       6\n",
            "Name: gender, dtype: int64\n",
            "\n",
            "Unique Values Count \u001b[1mBefore Standardized \u001b[0mVariable SeniorCitizen\n",
            "0    5962\n",
            "1    1151\n",
            "Name: SeniorCitizen, dtype: int64\n",
            "\n",
            "Unique Values Count \u001b[1mBefore Standardized \u001b[0mVariable Partner\n",
            "No     3676\n",
            "Yes    3437\n",
            "Name: Partner, dtype: int64\n",
            "\n",
            "Unique Values Count \u001b[1mBefore Standardized \u001b[0mVariable Dependents\n",
            "No     4978\n",
            "Yes    2115\n",
            "Iya      20\n",
            "Name: Dependents, dtype: int64\n",
            "\n",
            "Unique Values Count \u001b[1mBefore Standardized \u001b[0mVariable PhoneService\n",
            "Yes    6423\n",
            "No      690\n",
            "Name: PhoneService, dtype: int64\n",
            "\n",
            "Unique Values Count \u001b[1mBefore Standardized \u001b[0mVariable MultipleLines\n",
            "No                  3428\n",
            "Yes                 2995\n",
            "No phone service     690\n",
            "Name: MultipleLines, dtype: int64\n",
            "\n",
            "Unique Values Count \u001b[1mBefore Standardized \u001b[0mVariable InternetService\n",
            "Fiber optic    3125\n",
            "DSL            2451\n",
            "No             1537\n",
            "Name: InternetService, dtype: int64\n",
            "\n",
            "Unique Values Count \u001b[1mBefore Standardized \u001b[0mVariable OnlineSecurity\n",
            "No                     3531\n",
            "Yes                    2045\n",
            "No internet service    1537\n",
            "Name: OnlineSecurity, dtype: int64\n",
            "\n",
            "Unique Values Count \u001b[1mBefore Standardized \u001b[0mVariable OnlineBackup\n",
            "No                     3120\n",
            "Yes                    2456\n",
            "No internet service    1537\n",
            "Name: OnlineBackup, dtype: int64\n",
            "\n",
            "Unique Values Count \u001b[1mBefore Standardized \u001b[0mVariable DeviceProtection\n",
            "No                     3120\n",
            "Yes                    2456\n",
            "No internet service    1537\n",
            "Name: DeviceProtection, dtype: int64\n",
            "\n",
            "Unique Values Count \u001b[1mBefore Standardized \u001b[0mVariable TechSupport\n",
            "No                     3502\n",
            "Yes                    2074\n",
            "No internet service    1537\n",
            "Name: TechSupport, dtype: int64\n",
            "\n",
            "Unique Values Count \u001b[1mBefore Standardized \u001b[0mVariable StreamingTV\n",
            "No                     2837\n",
            "Yes                    2739\n",
            "No internet service    1537\n",
            "Name: StreamingTV, dtype: int64\n",
            "\n",
            "Unique Values Count \u001b[1mBefore Standardized \u001b[0mVariable StreamingMovies\n",
            "No                     2809\n",
            "Yes                    2767\n",
            "No internet service    1537\n",
            "Name: StreamingMovies, dtype: int64\n",
            "\n",
            "Unique Values Count \u001b[1mBefore Standardized \u001b[0mVariable Contract\n",
            "Month-to-month    3905\n",
            "Two year          1716\n",
            "One year          1492\n",
            "Name: Contract, dtype: int64\n",
            "\n",
            "Unique Values Count \u001b[1mBefore Standardized \u001b[0mVariable PaperlessBilling\n",
            "Yes    4206\n",
            "No     2907\n",
            "Name: PaperlessBilling, dtype: int64\n",
            "\n",
            "Unique Values Count \u001b[1mBefore Standardized \u001b[0mVariable PaymentMethod\n",
            "Electronic check             2385\n",
            "Mailed check                 1630\n",
            "Bank transfer (automatic)    1556\n",
            "Credit card (automatic)      1542\n",
            "Name: PaymentMethod, dtype: int64\n",
            "\n",
            "Unique Values Count \u001b[1mBefore Standardized \u001b[0mVariable Churn\n",
            "No       5195\n",
            "Yes      1866\n",
            "Churn       9\n",
            "Name: Churn, dtype: int64\n"
          ],
          "name": "stdout"
        }
      ]
    },
    {
      "cell_type": "markdown",
      "metadata": {
        "id": "t5dYgu4ZhzHF"
      },
      "source": [
        "**Menstandarisasi Variable Kategorik**"
      ]
    },
    {
      "cell_type": "markdown",
      "metadata": {
        "id": "pOXR5D5Qh0W6"
      },
      "source": [
        "Setelah kita mengeteahui variable mana saja yang ada nilai tidak standar, maka kita standarkan dengan pola terbanyak nya, dengan syarat tanpa mengubah maknanya. Contoh : Iya -> Yes Kemudian liat kembali unique values dari masing-masing variable yang sudah di ubah."
      ]
    },
    {
      "cell_type": "code",
      "metadata": {
        "id": "4hervbHrYkRJ",
        "colab": {
          "base_uri": "https://localhost:8080/"
        },
        "outputId": "06e2d058-34ea-4132-e6a5-d88d19a96e41"
      },
      "source": [
        "df_load = df_load.replace(['Wanita', 'Laki-Laki', 'Churn', 'Iya'], ['Female', 'Male', 'Yes', 'Yes'])\n",
        "\n",
        "for col_name in list(['gender', 'Dependents', 'Churn']):\n",
        "  print(\"\\nUnique Values Count \\033[1m\" + \"After Standardized \\033[0mVariable\", col_name)\n",
        "  print(df_load[col_name].value_counts())"
      ],
      "execution_count": 16,
      "outputs": [
        {
          "output_type": "stream",
          "text": [
            "\n",
            "Unique Values Count \u001b[1mAfter Standardized \u001b[0mVariable gender\n",
            "Male      3587\n",
            "Female    3526\n",
            "Name: gender, dtype: int64\n",
            "\n",
            "Unique Values Count \u001b[1mAfter Standardized \u001b[0mVariable Dependents\n",
            "No     4978\n",
            "Yes    2135\n",
            "Name: Dependents, dtype: int64\n",
            "\n",
            "Unique Values Count \u001b[1mAfter Standardized \u001b[0mVariable Churn\n",
            "No     5195\n",
            "Yes    1875\n",
            "Name: Churn, dtype: int64\n"
          ],
          "name": "stdout"
        }
      ]
    },
    {
      "cell_type": "markdown",
      "metadata": {
        "id": "3_bO6tdih3tz"
      },
      "source": [
        "**Kesimpulan**"
      ]
    },
    {
      "cell_type": "markdown",
      "metadata": {
        "id": "AGoAAQxgh5RA"
      },
      "source": [
        "Ketika kita amati lebih jauh dari jumlah unique value dari masing-masing variable kategorik, terlihat jelas bahwa ada beberapa variable yang tidak standar. Variable itu adalah :\n",
        "\n",
        "1. Gender (Female, Male, Wanita, Laki-Laki), yang bisa di standarkan nilainya menjadi (Female, Male) karena mempunyai makna yang sama.\n",
        "2. Dependents (Yes, No, Iya), yang bisa di standarkan nilainya menjadi (Yes, No) karena mempunyai makna yang sama.\n",
        "3. Churn (Yes, No, Churn), yang bisa di standarkan nilainya menjadi (Yes, No) karena mempunyai makna yang sama.\n",
        "\n",
        "Setelah kita standarkan nilainya, dan kita amati kembali bentuk datanya, sudah terstandar dengan baik untuk unique value nya."
      ]
    }
  ]
}